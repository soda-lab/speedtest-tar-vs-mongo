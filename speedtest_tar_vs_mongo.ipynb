{
 "cells": [
  {
   "cell_type": "markdown",
   "metadata": {},
   "source": [
    "# Speedtest Tar VS MongoDB"
   ]
  },
  {
   "cell_type": "markdown",
   "metadata": {},
   "source": [
    "## import libraries & connect MongoDB"
   ]
  },
  {
   "cell_type": "code",
   "execution_count": 1,
   "metadata": {},
   "outputs": [],
   "source": [
    "import time\n",
    "import tarfile\n",
    "import json\n",
    "import warnings\n",
    "warnings.filterwarnings(\"ignore\", category=DeprecationWarning)\n",
    "\n",
    "import configparser \n",
    "config = configparser.ConfigParser()\n",
    "config.read('config.ini')\n",
    "ip = config['DEFAULT']['IP']\n",
    "port = config['DEFAULT']['MongoDB-Port']\n",
    "\n",
    "import pymongo\n",
    "from pymongo import MongoClient\n",
    "client = MongoClient(ip, int(port))\n",
    "\n",
    "# connect to database and get collections' names\n",
    "db_twitter = client[\"DPC\"]"
   ]
  },
  {
   "cell_type": "markdown",
   "metadata": {},
   "source": [
    "## Supporting Methods"
   ]
  },
  {
   "cell_type": "code",
   "execution_count": 2,
   "metadata": {},
   "outputs": [],
   "source": [
    "# write into csv file\n",
    "def write_csv(file_name,hashtag,user_location):\n",
    "    # avoid user location splitted by comma\n",
    "    try:\n",
    "        user_location = ''.join(user_location.split(','))\n",
    "    except:\n",
    "        pass\n",
    "    row = \"{},{}\\n\".format(hashtag,user_location)\n",
    "    \n",
    "    with open(file_name, 'a') as f:      \n",
    "        f.write(row)"
   ]
  },
  {
   "cell_type": "code",
   "execution_count": 3,
   "metadata": {},
   "outputs": [],
   "source": [
    "def get_value(i):\n",
    "    user_location = i['user']['location']\n",
    "\n",
    "    if len(i['entities']['hashtags']) == 0:\n",
    "        hashtag = None\n",
    "        write_csv(file_name,hashtag,user_location)\n",
    "    elif len(i['entities']['hashtags']) == 1:\n",
    "        hashtag = i['entities']['hashtags'][0]['text']\n",
    "        write_csv(file_name,hashtag,user_location)\n",
    "    else:\n",
    "        for h in range(len(i['entities']['hashtags'])):\n",
    "            hashtag = i['entities']['hashtags'][h]['text']\n",
    "            write_csv(file_name,hashtag,user_location)"
   ]
  },
  {
   "cell_type": "markdown",
   "metadata": {},
   "source": [
    "# Tar Test:"
   ]
  },
  {
   "cell_type": "code",
   "execution_count": 4,
   "metadata": {},
   "outputs": [
    {
     "name": "stdout",
     "output_type": "stream",
     "text": [
      "Time cost for tar: 26.177585124969482\n",
      "Tar: csv file for collection is done.\n",
      "-----------------------\n"
     ]
    }
   ],
   "source": [
    "start = time.time()\n",
    "\n",
    "tar = tarfile.open(\"test.tar.gz\", 'r|gz')\n",
    "\n",
    "# get content of the tar file\n",
    "for tar_info in tar:\n",
    "    if tar_info.isfile():\n",
    "            if tar_info.name.lower().endswith('.json') \\\n",
    "            and r'/.' not in tar_info.name:\n",
    "                content = tar.extractfile(tar_info).read().decode('utf-8')\n",
    "                c= json.loads(content)\n",
    "\n",
    "file_name = \"Twitter_2015_tar.csv\"\n",
    "with open(file_name, 'a') as f:\n",
    "    f.write('hashtag,user_location\\n')\n",
    "\n",
    "for i in c:\n",
    "    get_value(i)\n",
    "    \n",
    "end = time.time()\n",
    "print(\"Time cost for tar: \" + str(end-start))\n",
    "\n",
    "print(\"Tar: csv file for collection is done.\")\n",
    "print(\"-----------------------\")"
   ]
  },
  {
   "cell_type": "markdown",
   "metadata": {},
   "source": [
    "# MongoDB Test :"
   ]
  },
  {
   "cell_type": "code",
   "execution_count": 5,
   "metadata": {},
   "outputs": [
    {
     "name": "stdout",
     "output_type": "stream",
     "text": [
      "4.988497972488403\n",
      "Time cost for mongo: 4.988497972488403\n",
      "Mongodb: csv file for collection is done.\n",
      "-----------------------\n"
     ]
    }
   ],
   "source": [
    "start = time.time()\n",
    "\n",
    "file_name = \"Twitter_2015_mongo.csv\"\n",
    "with open(file_name, 'a') as f:\n",
    "    f.write('hashtag,user_location\\n')\n",
    "\n",
    "for document in db_twitter[\"Twitter_2015\"].find():\n",
    "    get_value(document)\n",
    "    \n",
    "end = time.time()\n",
    "print(\"Time cost for mongo: \" + str(end-start))\n",
    "\n",
    "print(\"Mongodb: csv file for collection is done.\")\n",
    "print(\"-----------------------\")"
   ]
  },
  {
   "cell_type": "code",
   "execution_count": null,
   "metadata": {},
   "outputs": [],
   "source": []
  }
 ],
 "metadata": {
  "kernelspec": {
   "display_name": "Python 3",
   "language": "python",
   "name": "python3"
  },
  "language_info": {
   "codemirror_mode": {
    "name": "ipython",
    "version": 3
   },
   "file_extension": ".py",
   "mimetype": "text/x-python",
   "name": "python",
   "nbconvert_exporter": "python",
   "pygments_lexer": "ipython3",
   "version": "3.6.4"
  }
 },
 "nbformat": 4,
 "nbformat_minor": 2
}
